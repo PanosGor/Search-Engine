{
 "cells": [
  {
   "cell_type": "code",
   "execution_count": 1,
   "id": "836e57be",
   "metadata": {},
   "outputs": [],
   "source": [
    "import pandas as pd\n",
    "import gensim\n",
    "import json\n",
    "import re\n",
    "from nltk.corpus import stopwords\n",
    "from nltk.stem.porter import PorterStemmer"
   ]
  },
  {
   "cell_type": "code",
   "execution_count": 2,
   "id": "7022fc1d",
   "metadata": {},
   "outputs": [],
   "source": [
    "def data_reader(file):\n",
    "    my_dict={}\n",
    "    my_list_of_comments=[]\n",
    "    loaded_json=json.load(open(file))\n",
    "    doc_list=loaded_json[\"All questions\"]\n",
    "    for i in range(len(doc_list)):\n",
    "        my_dict[doc_list[i]['url']]=doc_list[i]['title']+\" \"+doc_list[i]['description']\n",
    "        my_list_of_comments.append(doc_list[i]['description'])\n",
    "    return my_dict,my_list_of_comments\n",
    "\n",
    "def remove_nonwords(text):\n",
    "    import re\n",
    "    non_words = re.compile(r\"[^a-z']\")\n",
    "    processed_text = re.sub(non_words, ' ', text)\n",
    "    return processed_text.strip()\n",
    "\n",
    "def remove_stopwords(text):\n",
    "    from nltk.corpus import stopwords\n",
    "    stopwrds=stopwords.words('english')\n",
    "    words = [word for word in text.split() if word not in stopwrds]\n",
    "    return words\n",
    "\n",
    "def stem_words(words):\n",
    "    from nltk.stem.porter import PorterStemmer\n",
    "    stemmer = PorterStemmer()\n",
    "    stemmed_words = [stemmer.stem(word) for word in words]\n",
    "    return stemmed_words\n",
    "\n",
    "def preprocess_text(text):\n",
    "    processed_text = remove_nonwords(text.lower())\n",
    "    words = remove_stopwords(processed_text)\n",
    "    stemmed_words = stem_words(words)\n",
    "    return stemmed_words\n",
    "\n",
    "def create_corpus(list_of_sentences):\n",
    "    results=[]\n",
    "    for sentence in list_of_sentences:\n",
    "        processed=preprocess_text(sentence)\n",
    "        results.append(processed)\n",
    "    return results"
   ]
  },
  {
   "cell_type": "code",
   "execution_count": 3,
   "id": "53ce4968",
   "metadata": {},
   "outputs": [],
   "source": [
    "path=r\"C:\\Users\\Nikos\\Desktop\\DATA_SPOUDES\\MyLibs\\vector-space-retrieval-model-master\\vector-space-retrieval-model-master\\sample_100_without_duplicates.json\"\n",
    "my_dict,sentences=data_reader(path)\n"
   ]
  },
  {
   "cell_type": "code",
   "execution_count": 4,
   "id": "412fbc9a",
   "metadata": {},
   "outputs": [],
   "source": [
    "df=pd.DataFrame.from_dict(my_dict, orient='index', columns=['text'])"
   ]
  },
  {
   "cell_type": "code",
   "execution_count": 5,
   "id": "28654455",
   "metadata": {},
   "outputs": [
    {
     "data": {
      "text/plain": [
       "\"django.core.exceptions.FieldError: Unknown field(s) (PhoneNumber, City, Email, KYCDocument, Image, Speciality) specified for Doctor I am trying to make a form using modelsform, it was working fine but, suddenly I don't know what suddenly happens and it started giving me this error django.core.exceptions.FieldError: Unknown field(s) (PhoneNumber, City, Email, KYCDocument, Image, Speciality) specified for Doctor I have checked this error online and tried some solutions but nothing workout form me . here is forms.py file here is models.py file site design / logo © 2021 Stack Exchange Inc; user contributions licensed under cc by-sa.                    rev\\xa02021.10.12.40432\""
      ]
     },
     "execution_count": 5,
     "metadata": {},
     "output_type": "execute_result"
    }
   ],
   "source": [
    "df['text'][0]"
   ]
  },
  {
   "cell_type": "code",
   "execution_count": 6,
   "id": "b5053000",
   "metadata": {},
   "outputs": [],
   "source": [
    "L=[]\n",
    "for i in df['text']:\n",
    "    x=preprocess_text(i)\n",
    "    L.append(x)\n",
    "    "
   ]
  },
  {
   "cell_type": "code",
   "execution_count": 7,
   "id": "b0bc99f8",
   "metadata": {},
   "outputs": [],
   "source": [
    "df['words']=L"
   ]
  },
  {
   "cell_type": "code",
   "execution_count": 8,
   "id": "90278745",
   "metadata": {},
   "outputs": [
    {
     "data": {
      "text/html": [
       "<div>\n",
       "<style scoped>\n",
       "    .dataframe tbody tr th:only-of-type {\n",
       "        vertical-align: middle;\n",
       "    }\n",
       "\n",
       "    .dataframe tbody tr th {\n",
       "        vertical-align: top;\n",
       "    }\n",
       "\n",
       "    .dataframe thead th {\n",
       "        text-align: right;\n",
       "    }\n",
       "</style>\n",
       "<table border=\"1\" class=\"dataframe\">\n",
       "  <thead>\n",
       "    <tr style=\"text-align: right;\">\n",
       "      <th></th>\n",
       "      <th>text</th>\n",
       "      <th>words</th>\n",
       "    </tr>\n",
       "  </thead>\n",
       "  <tbody>\n",
       "    <tr>\n",
       "      <th>https:/stackoverflow.com/questions/69553953/django-core-exceptions-fielderror-unknown-fields-phonenumber-city-email-k</th>\n",
       "      <td>django.core.exceptions.FieldError: Unknown fie...</td>\n",
       "      <td>[django, core, except, fielderror, unknown, fi...</td>\n",
       "    </tr>\n",
       "    <tr>\n",
       "      <th>https:/stackoverflow.com/questions/69553950/error-in-camera-app-type-error-null-on-getcontext</th>\n",
       "      <td>Error in camera App / Type error: null on 'get...</td>\n",
       "      <td>[error, camera, app, type, error, null, 'getco...</td>\n",
       "    </tr>\n",
       "    <tr>\n",
       "      <th>https:/stackoverflow.com/questions/69553949/equals-operator-difference</th>\n",
       "      <td>Equals operator difference Actual output 16461...</td>\n",
       "      <td>[equal, oper, differ, actual, output, question...</td>\n",
       "    </tr>\n",
       "    <tr>\n",
       "      <th>https:/stackoverflow.com/questions/69553947/how-to-test-react-application-bundled-in-webpack-that-uses-require-functions</th>\n",
       "      <td>How to test React application bundled in Webpa...</td>\n",
       "      <td>[test, react, applic, bundl, webpack, use, req...</td>\n",
       "    </tr>\n",
       "    <tr>\n",
       "      <th>https:/stackoverflow.com/questions/69553945/nrows-alternative-for-read-sql-table</th>\n",
       "      <td>nrows alternative for read_sql_table I am a re...</td>\n",
       "      <td>[nrow, altern, read, sql, tabl, read, sql, tab...</td>\n",
       "    </tr>\n",
       "    <tr>\n",
       "      <th>...</th>\n",
       "      <td>...</td>\n",
       "      <td>...</td>\n",
       "    </tr>\n",
       "    <tr>\n",
       "      <th>https:/stackoverflow.com/questions/69547471/unity-submodule-for-core-code-across-multiple-projects</th>\n",
       "      <td>Unity Submodule for Core Code Across Multiple ...</td>\n",
       "      <td>[uniti, submodul, core, code, across, multipl,...</td>\n",
       "    </tr>\n",
       "    <tr>\n",
       "      <th>https:/stackoverflow.com/questions/69547470/binding-class-to-material-table-data-in-react</th>\n",
       "      <td>Binding Class to Material-Table data in React ...</td>\n",
       "      <td>[bind, class, materi, tabl, data, react, possi...</td>\n",
       "    </tr>\n",
       "    <tr>\n",
       "      <th>https:/stackoverflow.com/questions/69547469/optimise-mongodb-aggregate-query-performance</th>\n",
       "      <td>Optimise MongoDB aggregate query performance I...</td>\n",
       "      <td>[optimis, mongodb, aggreg, queri, perform, nex...</td>\n",
       "    </tr>\n",
       "    <tr>\n",
       "      <th>https:/stackoverflow.com/questions/69547464/how-to-iterate-over-nested-array-of-object-in-typescript</th>\n",
       "      <td>How to iterate over nested array of object in ...</td>\n",
       "      <td>[iter, nest, array, object, typescript, duplic...</td>\n",
       "    </tr>\n",
       "    <tr>\n",
       "      <th>https:/stackoverflow.com/questions/69547462/automatic-input-to-program</th>\n",
       "      <td>Automatic input to program [closed] Want to im...</td>\n",
       "      <td>[automat, input, program, close, want, improv,...</td>\n",
       "    </tr>\n",
       "  </tbody>\n",
       "</table>\n",
       "<p>3124 rows × 2 columns</p>\n",
       "</div>"
      ],
      "text/plain": [
       "                                                                                                 text  \\\n",
       "https:/stackoverflow.com/questions/69553953/dja...  django.core.exceptions.FieldError: Unknown fie...   \n",
       "https:/stackoverflow.com/questions/69553950/err...  Error in camera App / Type error: null on 'get...   \n",
       "https:/stackoverflow.com/questions/69553949/equ...  Equals operator difference Actual output 16461...   \n",
       "https:/stackoverflow.com/questions/69553947/how...  How to test React application bundled in Webpa...   \n",
       "https:/stackoverflow.com/questions/69553945/nro...  nrows alternative for read_sql_table I am a re...   \n",
       "...                                                                                               ...   \n",
       "https:/stackoverflow.com/questions/69547471/uni...  Unity Submodule for Core Code Across Multiple ...   \n",
       "https:/stackoverflow.com/questions/69547470/bin...  Binding Class to Material-Table data in React ...   \n",
       "https:/stackoverflow.com/questions/69547469/opt...  Optimise MongoDB aggregate query performance I...   \n",
       "https:/stackoverflow.com/questions/69547464/how...  How to iterate over nested array of object in ...   \n",
       "https:/stackoverflow.com/questions/69547462/aut...  Automatic input to program [closed] Want to im...   \n",
       "\n",
       "                                                                                                words  \n",
       "https:/stackoverflow.com/questions/69553953/dja...  [django, core, except, fielderror, unknown, fi...  \n",
       "https:/stackoverflow.com/questions/69553950/err...  [error, camera, app, type, error, null, 'getco...  \n",
       "https:/stackoverflow.com/questions/69553949/equ...  [equal, oper, differ, actual, output, question...  \n",
       "https:/stackoverflow.com/questions/69553947/how...  [test, react, applic, bundl, webpack, use, req...  \n",
       "https:/stackoverflow.com/questions/69553945/nro...  [nrow, altern, read, sql, tabl, read, sql, tab...  \n",
       "...                                                                                               ...  \n",
       "https:/stackoverflow.com/questions/69547471/uni...  [uniti, submodul, core, code, across, multipl,...  \n",
       "https:/stackoverflow.com/questions/69547470/bin...  [bind, class, materi, tabl, data, react, possi...  \n",
       "https:/stackoverflow.com/questions/69547469/opt...  [optimis, mongodb, aggreg, queri, perform, nex...  \n",
       "https:/stackoverflow.com/questions/69547464/how...  [iter, nest, array, object, typescript, duplic...  \n",
       "https:/stackoverflow.com/questions/69547462/aut...  [automat, input, program, close, want, improv,...  \n",
       "\n",
       "[3124 rows x 2 columns]"
      ]
     },
     "execution_count": 8,
     "metadata": {},
     "output_type": "execute_result"
    }
   ],
   "source": [
    "df"
   ]
  },
  {
   "cell_type": "code",
   "execution_count": 9,
   "id": "13071281",
   "metadata": {},
   "outputs": [],
   "source": [
    "from gensim.models.phrases import Phrases, Phraser"
   ]
  },
  {
   "cell_type": "code",
   "execution_count": 10,
   "id": "544e7fbd",
   "metadata": {},
   "outputs": [],
   "source": [
    "from collections import defaultdict"
   ]
  },
  {
   "cell_type": "code",
   "execution_count": 11,
   "id": "b10735a6",
   "metadata": {},
   "outputs": [],
   "source": [
    "sentences =df['words']"
   ]
  },
  {
   "cell_type": "code",
   "execution_count": 12,
   "id": "92f059dd",
   "metadata": {},
   "outputs": [],
   "source": [
    "i=0\n",
    "for sent in sentences:\n",
    "    i=i+1\n",
    "    if i >3:\n",
    "        break"
   ]
  },
  {
   "cell_type": "code",
   "execution_count": 13,
   "id": "14fb930e",
   "metadata": {},
   "outputs": [
    {
     "data": {
      "text/plain": [
       "12960"
      ]
     },
     "execution_count": 13,
     "metadata": {},
     "output_type": "execute_result"
    }
   ],
   "source": [
    "word_freq = defaultdict(int)\n",
    "for sent in sentences:\n",
    "    for i in sent:\n",
    "        word_freq[i] += 1\n",
    "len(word_freq)"
   ]
  },
  {
   "cell_type": "code",
   "execution_count": 14,
   "id": "cfe31c9c",
   "metadata": {},
   "outputs": [
    {
     "data": {
      "text/plain": [
       "['use',\n",
       " 'user',\n",
       " 'stack',\n",
       " 'site',\n",
       " 'design',\n",
       " 'logo',\n",
       " 'exchang',\n",
       " 'licens',\n",
       " 'cc',\n",
       " 'sa']"
      ]
     },
     "execution_count": 14,
     "metadata": {},
     "output_type": "execute_result"
    }
   ],
   "source": [
    "sorted(word_freq, key=word_freq.get, reverse=True)[:10]"
   ]
  },
  {
   "cell_type": "code",
   "execution_count": 15,
   "id": "395bfabb",
   "metadata": {},
   "outputs": [],
   "source": [
    "import multiprocessing\n",
    "\n",
    "from gensim.models import Word2Vec\n",
    "cores = multiprocessing.cpu_count()"
   ]
  },
  {
   "cell_type": "code",
   "execution_count": 16,
   "id": "2c3b4d11",
   "metadata": {},
   "outputs": [],
   "source": [
    "model=Word2Vec(window=5,min_count=5,workers=cores-1)\n",
    "\n",
    "model.build_vocab(sentences)"
   ]
  },
  {
   "cell_type": "code",
   "execution_count": 17,
   "id": "a5197369",
   "metadata": {},
   "outputs": [
    {
     "data": {
      "text/plain": [
       "(6698104, 8370540)"
      ]
     },
     "execution_count": 17,
     "metadata": {},
     "output_type": "execute_result"
    }
   ],
   "source": [
    "\n",
    "model.train(sentences, total_examples=model.corpus_count, epochs=30)\n"
   ]
  },
  {
   "cell_type": "code",
   "execution_count": 37,
   "id": "e1aba2f2",
   "metadata": {},
   "outputs": [],
   "source": [
    "#model.save(r\"C:\\Users\\Nikos\\Desktop\\DATA_SPOUDES\\Lessons\\Fall\\Search Engines and Web Mining\\word2vec trainer\\model.model\")"
   ]
  },
  {
   "cell_type": "code",
   "execution_count": 38,
   "id": "98911084",
   "metadata": {},
   "outputs": [
    {
     "data": {
      "text/plain": [
       "[('densiti', 0.75433748960495),\n",
       " ('subplot', 0.7522943615913391),\n",
       " ('axi', 0.7431324124336243),\n",
       " ('reachabl', 0.6798813939094543),\n",
       " ('unreal', 0.6766853332519531),\n",
       " ('geom', 0.6611704230308533),\n",
       " ('rgb', 0.6605469584465027),\n",
       " ('blue', 0.6564992070198059),\n",
       " ('plot', 0.6456540822982788),\n",
       " ('plotli', 0.6442754864692688)]"
      ]
     },
     "execution_count": 38,
     "metadata": {},
     "output_type": "execute_result"
    }
   ],
   "source": [
    "x=model.wv.most_similar(\"histogram\")\n",
    "x"
   ]
  },
  {
   "cell_type": "code",
   "execution_count": 21,
   "id": "76dbc7c3",
   "metadata": {},
   "outputs": [],
   "source": [
    "import numpy as np\n",
    "import matplotlib.pyplot as plt\n",
    "%matplotlib inline\n",
    " \n",
    "import seaborn as sns\n",
    "sns.set_style(\"darkgrid\")\n",
    "\n",
    "from sklearn.decomposition import PCA\n",
    "from sklearn.manifold import TSNE"
   ]
  },
  {
   "cell_type": "code",
   "execution_count": 22,
   "id": "ceabe5a1",
   "metadata": {},
   "outputs": [],
   "source": [
    "def tsnescatterplot(model, word):\n",
    "    arrays = np.empty((0, 100), dtype='f')\n",
    "    word_labels = [word]\n",
    "    color_list  = ['red']\n",
    "\n",
    "    arrays = np.append(arrays, model.wv.__getitem__([word]), axis=0)\n",
    "\n",
    "    close_words = model.wv.most_similar([word])\n",
    "\n",
    "    for wrd_score in close_words:\n",
    "        wrd_vector = model.wv.__getitem__([wrd_score[0]])\n",
    "        word_labels.append(wrd_score[0])\n",
    "        color_list.append('blue')\n",
    "        arrays = np.append(arrays, wrd_vector, axis=0)\n",
    "\n",
    "    reduc = PCA(n_components=2).fit_transform(arrays)\n",
    "\n",
    "    np.set_printoptions(suppress=True)\n",
    "\n",
    "    Y = TSNE(n_components=2, random_state=0, perplexity=15).fit_transform(reduc)\n",
    "\n",
    "    df = pd.DataFrame({'x': [x for x in Y[:, 0]],\n",
    "                       'y': [y for y in Y[:, 1]],\n",
    "                       'words': word_labels,\n",
    "                       'color': color_list})\n",
    "\n",
    "    fig, _ = plt.subplots()\n",
    "    fig.set_size_inches(9, 9)\n",
    "    \n",
    "    # Basic plot\n",
    "    p1 = sns.regplot(data=df,\n",
    "                     x=\"x\",\n",
    "                     y=\"y\",\n",
    "                     fit_reg=False,\n",
    "                     marker=\"o\",\n",
    "                     scatter_kws={'s': 40,\n",
    "                                  'facecolors': df['color']\n",
    "                                 }\n",
    "                    )\n",
    "    \n",
    "    for line in range(0, df.shape[0]):\n",
    "         p1.text(df[\"x\"][line],\n",
    "                 df['y'][line],\n",
    "                 '  ' + df[\"words\"][line].title(),\n",
    "                 horizontalalignment='left',\n",
    "                 verticalalignment='bottom', size='medium',\n",
    "                 color=df['color'][line],\n",
    "                 weight='normal'\n",
    "                ).set_size(15)\n",
    "\n",
    "    \n",
    "    plt.xlim(Y[:, 0].min()-50, Y[:, 0].max()+50)\n",
    "    plt.ylim(Y[:, 1].min()-50, Y[:, 1].max()+50)\n",
    "            \n",
    "    plt.title('t-SNE visualization for {}'.format(word.title()))"
   ]
  },
  {
   "cell_type": "code",
   "execution_count": 23,
   "id": "c1722874",
   "metadata": {},
   "outputs": [
    {
     "data": {
      "image/png": "[encoded data removed]",
      "text/plain": [
       "<Figure size 648x648 with 1 Axes>"
      ]
     },
     "metadata": {},
     "output_type": "display_data"
    }
   ],
   "source": [
    "tsnescatterplot(model, 'sql')"
   ]
  },
  {
   "cell_type": "code",
   "execution_count": 24,
   "id": "64f14b8b",
   "metadata": {},
   "outputs": [],
   "source": [
    "def tsnescatterplot1(model, word, list_names):\n",
    "    \"\"\" Plot in seaborn the results from the t-SNE dimensionality reduction algorithm of the vectors of a query word,\n",
    "    its list of most similar words, and a list of words.\n",
    "    \"\"\"\n",
    "    arrays = np.empty((0, 100), dtype='f')\n",
    "    word_labels = [word]\n",
    "    color_list  = ['red']\n",
    "\n",
    "    # adds the vector of the query word\n",
    "    arrays = np.append(arrays, model.wv.__getitem__([word]), axis=0)\n",
    "    \n",
    "    # gets list of most similar words\n",
    "    close_words = model.wv.most_similar([word])\n",
    "    \n",
    "    # adds the vector for each of the closest words to the array\n",
    "    for wrd_score in close_words:\n",
    "        wrd_vector = model.wv.__getitem__([wrd_score[0]])\n",
    "        word_labels.append(wrd_score[0])\n",
    "        color_list.append('blue')\n",
    "        arrays = np.append(arrays, wrd_vector, axis=0)\n",
    "    \n",
    "    # adds the vector for each of the words from list_names to the array\n",
    "    for wrd in list_names:\n",
    "        wrd_vector = model.wv.__getitem__([wrd])\n",
    "        word_labels.append(wrd)\n",
    "        color_list.append('green')\n",
    "        arrays = np.append(arrays, wrd_vector, axis=0)\n",
    "        \n",
    "    # Reduces the dimensionality from 300 to 50 dimensions with PCA\n",
    "    reduc = PCA(n_components=11).fit_transform(arrays)\n",
    "    \n",
    "    # Finds t-SNE coordinates for 2 dimensions\n",
    "    np.set_printoptions(suppress=True)\n",
    "    \n",
    "    Y = TSNE(n_components=2, random_state=0, perplexity=15).fit_transform(reduc)\n",
    "    \n",
    "    # Sets everything up to plot\n",
    "    df = pd.DataFrame({'x': [x for x in Y[:, 0]],\n",
    "                       'y': [y for y in Y[:, 1]],\n",
    "                       'words': word_labels,\n",
    "                       'color': color_list})\n",
    "    \n",
    "    fig, _ = plt.subplots()\n",
    "    fig.set_size_inches(9, 9)\n",
    "    \n",
    "    # Basic plot\n",
    "    p1 = sns.regplot(data=df,\n",
    "                     x=\"x\",\n",
    "                     y=\"y\",\n",
    "                     fit_reg=False,\n",
    "                     marker=\"o\",\n",
    "                     scatter_kws={'s': 40,\n",
    "                                  'facecolors': df['color']\n",
    "                                 }\n",
    "                    )\n",
    "    \n",
    "    # Adds annotations one by one with a loop\n",
    "    for line in range(0, df.shape[0]):\n",
    "         p1.text(df[\"x\"][line],\n",
    "                 df['y'][line],\n",
    "                 '  ' + df[\"words\"][line].title(),\n",
    "                 horizontalalignment='left',\n",
    "                 verticalalignment='bottom', size='medium',\n",
    "                 color=df['color'][line],\n",
    "                 weight='normal'\n",
    "                ).set_size(15)\n",
    "\n",
    "    \n",
    "    plt.xlim(Y[:, 0].min()-50, Y[:, 0].max()+50)\n",
    "    plt.ylim(Y[:, 1].min()-50, Y[:, 1].max()+50)\n",
    "            \n",
    "    plt.title('t-SNE visualization for {}'.format(word.title()))"
   ]
  },
  {
   "cell_type": "code",
   "execution_count": 34,
   "id": "b648580c",
   "metadata": {},
   "outputs": [
    {
     "data": {
      "image/png": "[encoded data removed]",
      "text/plain": [
       "<Figure size 648x648 with 1 Axes>"
      ]
     },
     "metadata": {},
     "output_type": "display_data"
    }
   ],
   "source": [
    "tsnescatterplot1(model, 'sql', ['code','data','databas','program','python','panda'])"
   ]
  },
  {
   "cell_type": "code",
   "execution_count": null,
   "id": "b4857509",
   "metadata": {},
   "outputs": [],
   "source": [
    "\n",
    "\n",
    " "
   ]
  }
 ],
 "metadata": {
  "kernelspec": {
   "display_name": "Python 3",
   "language": "python",
   "name": "python3"
  },
  "language_info": {
   "codemirror_mode": {
    "name": "ipython",
    "version": 3
   },
   "file_extension": ".py",
   "mimetype": "text/x-python",
   "name": "python",
   "nbconvert_exporter": "python",
   "pygments_lexer": "ipython3",
   "version": "3.8.5"
  },
  "widgets": {
   "application/vnd.jupyter.widget-state+json": {
    "state": {},
    "version_major": 2,
    "version_minor": 0
   }
  }
 },
 "nbformat": 4,
 "nbformat_minor": 5
}
